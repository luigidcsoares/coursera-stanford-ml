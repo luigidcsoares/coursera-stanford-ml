{
 "cells": [
  {
   "cell_type": "markdown",
   "metadata": {
    "ein.tags": "worksheet-0",
    "slideshow": {
     "slide_type": "-"
    }
   },
   "source": [
    "## Introduction"
   ]
  },
  {
   "cell_type": "markdown",
   "metadata": {
    "ein.tags": "worksheet-0",
    "slideshow": {
     "slide_type": "-"
    }
   },
   "source": [
    "Let me start by saying that this notebook is meant to be a way to improve both my Python and Machine Learning skills, using Andrew Ng's Machine Learning course as basis. The first exercise is divided in two parts: linear regression with one variable and with multiple variables. Taking into account that is possible to generalize the code to accept any number of features, i chose to divide these sections by their themes: predicting profits for a food truck and predicting the price of houses. I also splitted these exercises into two files, this one corresponding to the prediction of profits for a food truck."
   ]
  },
  {
   "cell_type": "code",
   "execution_count": 1,
   "metadata": {
    "autoscroll": false,
    "collapsed": false,
    "ein.hycell": false,
    "ein.tags": "worksheet-0",
    "slideshow": {
     "slide_type": "-"
    }
   },
   "outputs": [],
   "source": [
    "%matplotlib inline\n",
    "\n",
    "import os\n",
    "import sys\n",
    "import matplotlib.pyplot as plt\n",
    "import pandas as pd\n",
    "import numpy as np\n",
    "\n",
    "# Import local modules.\n",
    "module_path = '{}/src'.format(os.path.abspath(os.path.join('..')))\n",
    "if module_path not in sys.path:\n",
    "    sys.path.append(module_path)\n",
    "\n",
    "from linear_regression import cost, gradient_descent"
   ]
  },
  {
   "cell_type": "markdown",
   "metadata": {
    "ein.tags": "worksheet-0",
    "slideshow": {
     "slide_type": "-"
    }
   },
   "source": [
    "## Loading the Data\n",
    "- Pandas' [read_csv][1] was used to read the data into a [dataframe][2];\n",
    "- Custom column names was passed as argument according to the description of the exercise.\n",
    "\n",
    "[1]: https://pandas.pydata.org/pandas-docs/stable/generated/pandas.read_csv.html\n",
    "[2]: https://pandas.pydata.org/pandas-docs/stable/generated/pandas.DataFrame.html"
   ]
  },
  {
   "cell_type": "code",
   "execution_count": 2,
   "metadata": {
    "autoscroll": false,
    "collapsed": false,
    "ein.hycell": false,
    "ein.tags": "worksheet-0",
    "slideshow": {
     "slide_type": "-"
    }
   },
   "outputs": [],
   "source": [
    "df = pd.read_csv(\n",
    "    '../../data/ex1data1.txt', delimiter=',',\n",
    "    header=None, names=['population', 'profit']\n",
    ")"
   ]
  },
  {
   "cell_type": "markdown",
   "metadata": {
    "ein.tags": "worksheet-0",
    "slideshow": {
     "slide_type": "-"
    }
   },
   "source": [
    "## Visualizing the data\n",
    "- [Pandas][1] wrapper around pyplot functions was used to plot de data;\n",
    "- The axes returned by DataFrame [plot.scatter][2] were customized aiming a better visualization.\n",
    "\n",
    "[1]: https://pandas.pydata.org/pandas-docs/stable/\n",
    "[2]: https://pandas.pydata.org/pandas-docs/stable/generated/pandas.DataFrame.plot.scatter.html"
   ]
  },
  {
   "cell_type": "code",
   "execution_count": 3,
   "metadata": {
    "autoscroll": false,
    "collapsed": false,
    "ein.hycell": false,
    "ein.tags": "worksheet-0",
    "slideshow": {
     "slide_type": "-"
    }
   },
   "outputs": [
    {
     "data": {
      "image/png": "[encoded data removed]",
      "text/plain": [
       "<Figure size 432x288 with 1 Axes>"
      ]
     },
     "metadata": {},
     "output_type": "display_data"
    }
   ],
   "source": [
    "# Create a scatter plot using pandas wrapper around matplotlib functions.\n",
    "ax = df.plot.scatter(\n",
    "    x='population', y='profit',\n",
    "    marker='x', color='r', s=50\n",
    ")\n",
    "\n",
    "# Customize axes ticks and labels.\n",
    "ax.set_xlabel(\n",
    "    'Population of City in 10,000s',\n",
    "    fontsize='x-large'\n",
    ")\n",
    "ax.set_ylabel(\n",
    "    'Profit in $10,000s',\n",
    "    fontsize='x-large'\n",
    ")\n",
    "ax.tick_params(labelsize='medium')\n",
    "\n",
    "# Customize current figure.;\n",
    "plt.gcf().set_facecolor('white')\n",
    "\n",
    "plt.show()"
   ]
  },
  {
   "cell_type": "markdown",
   "metadata": {
    "ein.tags": "worksheet-0",
    "slideshow": {
     "slide_type": "-"
    }
   },
   "source": [
    "## Computing the cost\n",
    "- Transform DataFrame into a numpy array and add the bias column;\n",
    "- Initialize fitting parameters (theta);\n",
    "- Compute and display initial cost (to test);\n",
    "- Further testing of the cost function;\n",
    "- Cost J is given by: $J(\\theta) = \\frac{1}{2m}\\sum_{i=1}^{m}(h_{\\theta}(x^{(i)}) - y^{(i)})^{2}$"
   ]
  },
  {
   "cell_type": "code",
   "execution_count": 4,
   "metadata": {
    "autoscroll": false,
    "collapsed": false,
    "ein.hycell": false,
    "ein.tags": "worksheet-0",
    "slideshow": {
     "slide_type": "-"
    }
   },
   "outputs": [
    {
     "name": "stdout",
     "output_type": "stream",
     "text": [
      "Cost computed with theta = [0; 0]: 32.072733877455676\n",
      "Expected cost value (approx): 32.07\n",
      "\n",
      "Cost computed with theta = [-1; 2]: 54.24245508201238\n",
      "Expected cost value (approx): 54.24\n"
     ]
    }
   ],
   "source": [
    "# Number of training examples.\n",
    "m = len(df.index) \n",
    "\n",
    "# Number of features.\n",
    "n = 1\n",
    "\n",
    "# Get X and y values and add an extra column of ones (bias) to X.\n",
    "X = np.hstack(((np.ones((m, 1)), df.loc[:, 'population'].values.reshape(m, n))))\n",
    "y = df.loc[:, 'profit'].values.reshape(m, 1)\n",
    "\n",
    "# Compute and display initial cost.\n",
    "J = cost(X, y, np.array([[0], [0]]))\n",
    "\n",
    "print('Cost computed with theta = [0; 0]: {}'.format(J))\n",
    "print('Expected cost value (approx): 32.07')\n",
    "\n",
    "# Further testing of the cost function.\n",
    "J = cost(X, y, np.array([[-1], [2]]))\n",
    "\n",
    "print('\\nCost computed with theta = [-1; 2]: {}'.format(J))\n",
    "print('Expected cost value (approx): 54.24')"
   ]
  },
  {
   "cell_type": "markdown",
   "metadata": {
    "ein.tags": "worksheet-0",
    "slideshow": {
     "slide_type": "-"
    }
   },
   "source": [
    "## Running Batch Gradient Descent"
   ]
  },
  {
   "cell_type": "code",
   "execution_count": 5,
   "metadata": {
    "autoscroll": false,
    "collapsed": false,
    "ein.hycell": false,
    "ein.tags": "worksheet-0",
    "slideshow": {
     "slide_type": "-"
    }
   },
   "outputs": [
    {
     "name": "stdout",
     "output_type": "stream",
     "text": [
      "Theta found by gradient descent: \n",
      "[[-3.63029144]\n",
      " [ 1.16636235]]\n",
      "Expected theta values (approx): [-3.6303; 1.1664]\n"
     ]
    }
   ],
   "source": [
    "# Some gradient descent settings.\n",
    "num_iters = 1500;\n",
    "alpha = 0.01;\n",
    "\n",
    "# Run gradient descent and get theta values.\n",
    "init_theta = np.zeros((2, 1))\n",
    "theta = gradient_descent(X, y, init_theta, alpha, num_iters)\n",
    "\n",
    "print('Theta found by gradient descent: \\n{}'.format(theta))\n",
    "print('Expected theta values (approx): [-3.6303; 1.1664]')"
   ]
  },
  {
   "cell_type": "code",
   "execution_count": null,
   "metadata": {
    "autoscroll": false,
    "collapsed": false,
    "ein.hycell": false,
    "ein.tags": "worksheet-0",
    "slideshow": {
     "slide_type": "-"
    }
   },
   "outputs": [],
   "source": []
  }
 ],
 "metadata": {
  "kernelspec": {
   "display_name": "Python 3",
   "name": "python3"
  },
  "language_info": {
   "codemirror_mode": {
    "name": "ipython",
    "version": 3
   },
   "file_extension": ".py",
   "mimetype": "text/x-python",
   "name": "python",
   "nbconvert_exporter": "python",
   "pygments_lexer": "ipython3",
   "version": "3.7.1"
  },
  "name": "food-truck.ipynb"
 },
 "nbformat": 4,
 "nbformat_minor": 2
}
