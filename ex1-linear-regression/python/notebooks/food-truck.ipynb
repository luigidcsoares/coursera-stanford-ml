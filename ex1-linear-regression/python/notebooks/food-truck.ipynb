{
 "cells": [
  {
   "cell_type": "markdown",
   "metadata": {
    "ein.tags": "worksheet-0",
    "slideshow": {
     "slide_type": "-"
    }
   },
   "source": [
    "## Introduction"
   ]
  },
  {
   "cell_type": "markdown",
   "metadata": {
    "ein.tags": "worksheet-0",
    "slideshow": {
     "slide_type": "-"
    }
   },
   "source": [
    "Let me start by saying that this notebook is meant to be a way to improve both my Python and Machine Learning skills, using Andrew Ng's Machine Learning course as basis. The first exercise is divided in two parts: linear regression with one variable and with multiple variables. Taking into account that is possible to generalize the code to accept any number of features, i chose to divide these sections by their themes: predicting profits for a food truck and predicting the price of houses. I also splitted these exercises into two files, this one corresponding to the prediction of profits for a food truck."
   ]
  },
  {
   "cell_type": "code",
   "execution_count": 2,
   "metadata": {
    "autoscroll": false,
    "collapsed": false,
    "ein.hycell": false,
    "ein.tags": "worksheet-0",
    "slideshow": {
     "slide_type": "-"
    }
   },
   "outputs": [],
   "source": [
    "%matplotlib inline\n",
    "\n",
    "import os\n",
    "import sys\n",
    "import matplotlib.pyplot as plt\n",
    "import pandas as pd\n",
    "import numpy as np\n",
    "\n",
    "# Import local modules.\n",
    "module_path = '{}/src'.format(os.path.abspath(os.path.join('..')))\n",
    "if module_path not in sys.path:\n",
    "    sys.path.append(module_path)\n",
    "\n",
    "from linear_regression import cost, gradient_descent"
   ]
  },
  {
   "cell_type": "markdown",
   "metadata": {
    "ein.tags": "worksheet-0",
    "slideshow": {
     "slide_type": "-"
    }
   },
   "source": [
    "## Loading the Data\n",
    "- [Pandas][1]' [read_csv][2] was used to read the data into a [dataframe][3];\n",
    "- Custom column names was passed as argument according to the description of the exercise;\n",
    "- Pandas' [head][4] was used to show some examples of the data.\n",
    "\n",
    "[1]: https://pandas.pydata.org/pandas-docs/stable/\n",
    "[2]: https://pandas.pydata.org/pandas-docs/stable/generated/pandas.read_csv.html\n",
    "[3]: https://pandas.pydata.org/pandas-docs/stable/generated/pandas.DataFrame.html\n",
    "[4]: https://pandas.pydata.org/pandas-docs/stable/generated/pandas.DataFrame.head.html"
   ]
  },
  {
   "cell_type": "code",
   "execution_count": 3,
   "metadata": {
    "autoscroll": false,
    "collapsed": false,
    "ein.hycell": false,
    "ein.tags": "worksheet-0",
    "slideshow": {
     "slide_type": "-"
    }
   },
   "outputs": [
    {
     "data": {
      "text/html": [
       "<div>\n",
       "<style scoped>\n",
       "    .dataframe tbody tr th:only-of-type {\n",
       "        vertical-align: middle;\n",
       "    }\n",
       "\n",
       "    .dataframe tbody tr th {\n",
       "        vertical-align: top;\n",
       "    }\n",
       "\n",
       "    .dataframe thead th {\n",
       "        text-align: right;\n",
       "    }\n",
       "</style>\n",
       "<table border=\"1\" class=\"dataframe\">\n",
       "  <thead>\n",
       "    <tr style=\"text-align: right;\">\n",
       "      <th></th>\n",
       "      <th>population</th>\n",
       "      <th>profit</th>\n",
       "    </tr>\n",
       "  </thead>\n",
       "  <tbody>\n",
       "    <tr>\n",
       "      <th>0</th>\n",
       "      <td>6.1101</td>\n",
       "      <td>17.5920</td>\n",
       "    </tr>\n",
       "    <tr>\n",
       "      <th>1</th>\n",
       "      <td>5.5277</td>\n",
       "      <td>9.1302</td>\n",
       "    </tr>\n",
       "    <tr>\n",
       "      <th>2</th>\n",
       "      <td>8.5186</td>\n",
       "      <td>13.6620</td>\n",
       "    </tr>\n",
       "    <tr>\n",
       "      <th>3</th>\n",
       "      <td>7.0032</td>\n",
       "      <td>11.8540</td>\n",
       "    </tr>\n",
       "    <tr>\n",
       "      <th>4</th>\n",
       "      <td>5.8598</td>\n",
       "      <td>6.8233</td>\n",
       "    </tr>\n",
       "    <tr>\n",
       "      <th>5</th>\n",
       "      <td>8.3829</td>\n",
       "      <td>11.8860</td>\n",
       "    </tr>\n",
       "    <tr>\n",
       "      <th>6</th>\n",
       "      <td>7.4764</td>\n",
       "      <td>4.3483</td>\n",
       "    </tr>\n",
       "    <tr>\n",
       "      <th>7</th>\n",
       "      <td>8.5781</td>\n",
       "      <td>12.0000</td>\n",
       "    </tr>\n",
       "    <tr>\n",
       "      <th>8</th>\n",
       "      <td>6.4862</td>\n",
       "      <td>6.5987</td>\n",
       "    </tr>\n",
       "    <tr>\n",
       "      <th>9</th>\n",
       "      <td>5.0546</td>\n",
       "      <td>3.8166</td>\n",
       "    </tr>\n",
       "  </tbody>\n",
       "</table>\n",
       "</div>"
      ],
      "text/plain": [
       "   population   profit\n",
       "0      6.1101  17.5920\n",
       "1      5.5277   9.1302\n",
       "2      8.5186  13.6620\n",
       "3      7.0032  11.8540\n",
       "4      5.8598   6.8233\n",
       "5      8.3829  11.8860\n",
       "6      7.4764   4.3483\n",
       "7      8.5781  12.0000\n",
       "8      6.4862   6.5987\n",
       "9      5.0546   3.8166"
      ]
     },
     "execution_count": 3,
     "metadata": {},
     "output_type": "execute_result"
    }
   ],
   "source": [
    "df = pd.read_csv(\n",
    "    '../../data/ex1data1.txt', delimiter=',',\n",
    "    header=None, names=['population', 'profit']\n",
    ")\n",
    "\n",
    "df.head(10)"
   ]
  },
  {
   "cell_type": "markdown",
   "metadata": {
    "ein.tags": "worksheet-0",
    "slideshow": {
     "slide_type": "-"
    }
   },
   "source": [
    "## Visualizing the data\n",
    "- [Matplotlib][1]'s [subplots][2] was used thinking of later plots;\n",
    "- The axes and the figure returned by subplots were customized aiming a better visualization.\n",
    "\n",
    "[1]: https://matplotlib.org/contents.html\n",
    "[2]: https://matplotlib.org/api/_as_gen/matplotlib.pyplot.subplots.html"
   ]
  },
  {
   "cell_type": "code",
   "execution_count": 4,
   "metadata": {
    "autoscroll": false,
    "collapsed": false,
    "ein.hycell": false,
    "ein.tags": "worksheet-0",
    "slideshow": {
     "slide_type": "-"
    }
   },
   "outputs": [
    {
     "data": {
      "image/png": "[encoded data removed]",
      "text/plain": [
       "<Figure size 432x288 with 1 Axes>"
      ]
     },
     "metadata": {},
     "output_type": "display_data"
    }
   ],
   "source": [
    "fig, ax = plt.subplots()\n",
    "\n",
    "# Create a scatter plot using pandas wrapper around matplotlib functions.\n",
    "scatter = ax.scatter(\n",
    "    df.loc[:, 'population'], df.loc[:, 'profit'],\n",
    "    marker='x', color='r', s=50\n",
    ")\n",
    "\n",
    "# Customize axes ticks and labels.\n",
    "ax.set_xlabel(\n",
    "    'Population of City in 10,000s',\n",
    "    fontsize='x-large'\n",
    ")\n",
    "ax.set_ylabel(\n",
    "    'Profit in $10,000s',\n",
    "    fontsize='x-large'\n",
    ")\n",
    "ax.tick_params(labelsize='medium')\n",
    "\n",
    "# Customize current figure.;\n",
    "fig.set_facecolor('white')"
   ]
  },
  {
   "cell_type": "markdown",
   "metadata": {
    "ein.tags": "worksheet-0",
    "slideshow": {
     "slide_type": "-"
    }
   },
   "source": [
    "## Computing the cost\n",
    "- Transform DataFrame into a numpy array and add the bias column;\n",
    "- Initialize fitting parameters (theta);\n",
    "- Compute and display initial cost (to test);\n",
    "- Further testing of the cost function;\n",
    "- Cost J is given by: $J(\\theta) = \\frac{1}{2m}\\sum_{i=1}^{m}(h_{\\theta}(x^{(i)}) - y^{(i)})^{2}$"
   ]
  },
  {
   "cell_type": "code",
   "execution_count": 5,
   "metadata": {
    "autoscroll": false,
    "collapsed": false,
    "ein.hycell": false,
    "ein.tags": "worksheet-0",
    "slideshow": {
     "slide_type": "-"
    }
   },
   "outputs": [
    {
     "name": "stdout",
     "output_type": "stream",
     "text": [
      "Cost computed with theta = [0; 0]: 32.072733877455676\n",
      "Expected cost value (approx): 32.07\n",
      "\n",
      "Cost computed with theta = [-1; 2]: 54.24245508201238\n",
      "Expected cost value (approx): 54.24\n"
     ]
    }
   ],
   "source": [
    "# Number of training examples.\n",
    "m = len(df.index) \n",
    "\n",
    "# Number of features.\n",
    "n = 1\n",
    "\n",
    "# Get X and y values and add an extra column of ones (bias) to X.\n",
    "X = np.hstack(((np.ones((m, 1)), df.loc[:, 'population'].values.reshape(m, n))))\n",
    "y = df.loc[:, 'profit'].values.reshape(m, 1)\n",
    "\n",
    "# Compute and display initial cost.\n",
    "J = cost(X, y, np.array([[0], [0]]))\n",
    "\n",
    "print('Cost computed with theta = [0; 0]: {}'.format(J))\n",
    "print('Expected cost value (approx): 32.07')\n",
    "\n",
    "# Further testing of the cost function.\n",
    "J = cost(X, y, np.array([[-1], [2]]))\n",
    "\n",
    "print('\\nCost computed with theta = [-1; 2]: {}'.format(J))\n",
    "print('Expected cost value (approx): 54.24')"
   ]
  },
  {
   "cell_type": "markdown",
   "metadata": {
    "ein.tags": "worksheet-0",
    "slideshow": {
     "slide_type": "-"
    }
   },
   "source": [
    "## Running Batch Gradient Descent\n",
    "- Set the number of iterations to take;\n",
    "- Set the learning rate alpha;\n",
    "- Set inital values of theta as 0;"
   ]
  },
  {
   "cell_type": "code",
   "execution_count": 6,
   "metadata": {
    "autoscroll": false,
    "collapsed": false,
    "ein.hycell": false,
    "ein.tags": "worksheet-0",
    "slideshow": {
     "slide_type": "-"
    }
   },
   "outputs": [
    {
     "name": "stdout",
     "output_type": "stream",
     "text": [
      "Theta found by gradient descent: \n",
      "[[-3.63029144]\n",
      " [ 1.16636235]]\n",
      "Expected theta values (approx): [-3.6303; 1.1664]\n"
     ]
    }
   ],
   "source": [
    "# Some gradient descent settings.\n",
    "num_iters = 1500;\n",
    "alpha = 0.01;\n",
    "\n",
    "# Run gradient descent and get theta values.\n",
    "init_theta = np.zeros((2, 1))\n",
    "theta = gradient_descent(X, y, init_theta, alpha, num_iters)\n",
    "\n",
    "print('Theta found by gradient descent: \\n{}'.format(theta))\n",
    "print('Expected theta values (approx): [-3.6303; 1.1664]')"
   ]
  },
  {
   "cell_type": "markdown",
   "metadata": {
    "ein.tags": "worksheet-0",
    "slideshow": {
     "slide_type": "-"
    }
   },
   "source": [
    "## Plotting the linear fit\n",
    "The objective of linear regression is to minimize the cost function\n",
    "\n",
    "$$J(\\theta) = \\frac{1}{2m}\\sum_{i=1}^{m}(h_{\\theta}(x^{(i)}) - y^{(i)})^{2}$$ where the hypothesis $h_{\\theta}(x)$ is given by the linear model\n",
    "\n",
    "$$h_{\\theta}(x) = \\theta^{T}x = \\theta_{0} + \\theta_{1}x_{1}$$\n",
    "\n",
    "In other words, $h_{\\theta}(x)$ give us the predicted profit for an example $x$. Therefore, it is possible to calculate all the profits by the following vectorization:\n",
    "\n",
    "$$X * \\theta$$\n",
    "\n",
    "where $X$ is a $m x n$ matrix where each column refers to one example, $\\theta$ is a $n x 1$ vector containing our model parameters, $m$ is the number of examples and $n$ is the number of features."
   ]
  },
  {
   "cell_type": "code",
   "execution_count": 21,
   "metadata": {
    "autoscroll": false,
    "collapsed": false,
    "ein.hycell": false,
    "ein.tags": "worksheet-0",
    "slideshow": {
     "slide_type": "-"
    }
   },
   "outputs": [
    {
     "data": {
      "text/plain": [
       "<Figure size 432x288 with 1 Axes>"
      ]
     },
     "execution_count": 21,
     "metadata": {},
     "output_type": "execute_result",
     "png": "[encoded data removed]"
    }
   ],
   "source": [
    "# Create new plot using same old axes.\n",
    "line, = ax.plot(X[:, 1:], X @ theta)\n",
    "ax.legend([scatter, line], ['Training Data', 'Linear Regression'])\n",
    "\n",
    "fig"
   ]
  },
  {
   "cell_type": "markdown",
   "metadata": {
    "ein.tags": "worksheet-0",
    "slideshow": {
     "slide_type": "-"
    }
   },
   "source": [
    "## Predicting profits"
   ]
  },
  {
   "cell_type": "code",
   "execution_count": 39,
   "metadata": {
    "autoscroll": false,
    "collapsed": false,
    "ein.hycell": false,
    "ein.tags": "worksheet-0",
    "slideshow": {
     "slide_type": "-"
    }
   },
   "outputs": [
    {
     "name": "stdout",
     "output_type": "stream",
     "text": [
      "For population = 35,000, we predict a profit of $4519.77\n",
      "For population of 70,000, we predict a profit of $45342.45\n"
     ]
    }
   ],
   "source": [
    "predict1 = np.transpose(theta) @ np.array([[1], [3.5]])\n",
    "print('For population = 35,000, we predict a profit of ${:.2f}'\n",
    "      .format(predict1[0, 0] * 10000))\n",
    "\n",
    "predict2 = np.transpose(theta) @ np.array([[1], [7]])\n",
    "print('For population of 70,000, we predict a profit of ${:.2f}'\n",
    "      .format(predict2[0, 0] * 10000))"
   ]
  },
  {
   "cell_type": "code",
   "execution_count": null,
   "metadata": {
    "autoscroll": false,
    "collapsed": false,
    "ein.hycell": false,
    "ein.tags": "worksheet-0",
    "slideshow": {
     "slide_type": "-"
    }
   },
   "outputs": [],
   "source": []
  }
 ],
 "metadata": {
  "kernelspec": {
   "display_name": "Python 3",
   "name": "python3"
  },
  "language_info": {
   "codemirror_mode": {
    "name": "ipython",
    "version": 3
   },
   "file_extension": ".py",
   "mimetype": "text/x-python",
   "name": "python",
   "nbconvert_exporter": "python",
   "pygments_lexer": "ipython3",
   "version": "3.7.1"
  },
  "name": "food-truck.ipynb"
 },
 "nbformat": 4,
 "nbformat_minor": 2
}
