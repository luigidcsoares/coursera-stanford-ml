{
 "cells": [
  {
   "cell_type": "markdown",
   "metadata": {
    "ein.tags": "worksheet-0",
    "slideshow": {
     "slide_type": "-"
    }
   },
   "source": [
    "## Introduction"
   ]
  },
  {
   "cell_type": "markdown",
   "metadata": {
    "ein.tags": "worksheet-0",
    "slideshow": {
     "slide_type": "-"
    }
   },
   "source": [
    "Let me start by saying that this notebook is meant to be a way to improve both my Python and Machine Learning skills, using Andrew Ng's Machine Learning course as basis. The first exercise is divided in two parts: one variable and multiple variables. Given that is possible to generalize the code to accept any number of features, i chose to divide these sections by their themes: predicting profits for a food truck and predicting the price of houses. I also splitted these exercises into two files, this one corresponding to the prediction of profits for a food truck."
   ]
  },
  {
   "cell_type": "code",
   "execution_count": 2,
   "metadata": {
    "autoscroll": false,
    "collapsed": false,
    "ein.hycell": false,
    "ein.tags": "worksheet-0",
    "slideshow": {
     "slide_type": "-"
    }
   },
   "outputs": [],
   "source": [
    "%matplotlib inline\n",
    "\n",
    "import os\n",
    "import sys\n",
    "import matplotlib.pyplot as plt\n",
    "import seaborn as sns\n",
    "import pandas as pd\n",
    "import numpy as np"
   ]
  },
  {
   "cell_type": "markdown",
   "metadata": {
    "ein.tags": "worksheet-0",
    "slideshow": {
     "slide_type": "-"
    }
   },
   "source": [
    "## Loading the Data\n",
    "- Pandas' [read_csv][1] was used to read the data into a [dataframe][2];\n",
    "- Custom column names was passed as argument according to the description of the exercise.\n",
    "\n",
    "[1]: https://pandas.pydata.org/pandas-docs/stable/generated/pandas.read_csv.html\n",
    "[2]: https://pandas.pydata.org/pandas-docs/stable/generated/pandas.DataFrame.html"
   ]
  },
  {
   "cell_type": "code",
   "execution_count": 3,
   "metadata": {
    "autoscroll": false,
    "collapsed": false,
    "ein.hycell": false,
    "ein.tags": "worksheet-0",
    "slideshow": {
     "slide_type": "-"
    }
   },
   "outputs": [],
   "source": [
    "df = pd.read_csv(\n",
    "    '../../data/ex1data1.txt', delimiter=',',\n",
    "    header=None, names=['population', 'profit']\n",
    ")"
   ]
  },
  {
   "cell_type": "markdown",
   "metadata": {
    "ein.tags": "worksheet-0",
    "slideshow": {
     "slide_type": "-"
    }
   },
   "source": [
    "## Visualizing the data\n",
    "- [Seaborn][1] library was used to plot the data;\n",
    "- The axes returned by seaborn's [scatterplot][2] were customized aiming a better visualization.\n",
    "\n",
    "[1]: https://seaborn.pydata.org/\n",
    "[2]: https://seaborn.pydata.org/generated/seaborn.scatterplot.html"
   ]
  },
  {
   "cell_type": "code",
   "execution_count": 4,
   "metadata": {
    "autoscroll": false,
    "collapsed": false,
    "ein.hycell": false,
    "ein.tags": "worksheet-0",
    "slideshow": {
     "slide_type": "-"
    }
   },
   "outputs": [
    {
     "data": {
      "image/png": "[encoded data removed]",
      "text/plain": [
       "<Figure size 432x288 with 1 Axes>"
      ]
     },
     "metadata": {},
     "output_type": "display_data"
    }
   ],
   "source": [
    "# Create scatter plot with some custom settings.\n",
    "sns.set_style('ticks')\n",
    "scat_plot = sns.scatterplot(\n",
    "    x='population', y='profit', data=df,\n",
    "    marker='x', color='r'\n",
    ")\n",
    "\n",
    "# Customize the axes returned by scatterplot.\n",
    "ax = scat_plot.axes\n",
    "ax.set_xlabel(\n",
    "    'Population of City in 10,000s',\n",
    "    fontsize='x-large'\n",
    ")\n",
    "ax.set_ylabel(\n",
    "    'Profit in $10,000s',\n",
    "    fontsize='x-large'\n",
    ")\n",
    "ax.tick_params(labelsize='medium')\n",
    "\n",
    "plt.show()"
   ]
  },
  {
   "cell_type": "markdown",
   "metadata": {
    "ein.tags": "worksheet-0",
    "slideshow": {
     "slide_type": "-"
    }
   },
   "source": [
    "## Computing cost\n",
    "- Transform DataFrame into a numpy array and add the bias column;\n",
    "- Initialize fitting parameters (theta);\n",
    "- Compute and display initial cost (to test);\n",
    "- Cost J is given by: $J(\\theta) = \\frac{1}{2m}\\sum_{i=1}^{m}(h_{\\theta}(x^{(i)}) - y^{(i)})^{2}$"
   ]
  },
  {
   "cell_type": "code",
   "execution_count": 6,
   "metadata": {
    "autoscroll": false,
    "collapsed": false,
    "ein.hycell": false,
    "ein.tags": "worksheet-0",
    "slideshow": {
     "slide_type": "-"
    }
   },
   "outputs": [],
   "source": [
    "# Number of training examples.\n",
    "m = len(df.index) \n",
    "\n",
    "# Turn DataFrame into a numpy array and add an extra column of ones (bias).\n",
    "X = np.hstack((np.ones((m, 1)), df.values))\n",
    "\n",
    "# Initialize fitting parameters.\n",
    "theta = np.zeros((2, 1))\n",
    "\n",
    "# Some gradient descent settings.\n",
    "iterations = 1500;\n",
    "alpha = 0.01;"
   ]
  },
  {
   "cell_type": "code",
   "execution_count": null,
   "metadata": {
    "autoscroll": false,
    "collapsed": false,
    "ein.hycell": false,
    "ein.tags": "worksheet-0",
    "slideshow": {
     "slide_type": "-"
    }
   },
   "outputs": [],
   "source": []
  }
 ],
 "metadata": {
  "kernelspec": {
   "display_name": "Python 3",
   "language": "python",
   "name": "python3"
  },
  "language_info": {
   "codemirror_mode": {
    "name": "ipython",
    "version": 3
   },
   "file_extension": ".py",
   "mimetype": "text/x-python",
   "name": "python",
   "nbconvert_exporter": "python",
   "pygments_lexer": "ipython3",
   "version": "3.7.1"
  },
  "name": "food-truck.ipynb"
 },
 "nbformat": 4,
 "nbformat_minor": 2
}
